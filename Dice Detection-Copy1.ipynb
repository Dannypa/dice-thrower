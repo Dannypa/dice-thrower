{
 "cells": [
  {
   "cell_type": "code",
   "execution_count": 54,
   "id": "460fadf7",
   "metadata": {},
   "outputs": [],
   "source": [
    "import os\n",
    "import cv2\n",
    "import numpy as np\n",
    "from tqdm import tqdm"
   ]
  },
  {
   "cell_type": "code",
   "execution_count": 107,
   "id": "d71e0a57",
   "metadata": {
    "pycharm": {
     "name": "#%%\n"
    }
   },
   "outputs": [
    {
     "name": "stderr",
     "output_type": "stream",
     "text": [
      "100%|██████████| 800/800 [00:02<00:00, 330.86it/s]"
     ]
    },
    {
     "name": "stdout",
     "output_type": "stream",
     "text": [
      "0 86\n",
      "1 80\n",
      "2 84\n",
      "3 92\n",
      "4 100\n",
      "5 82\n",
      "6 100\n",
      "624\n",
      "[array([[ 73,  81,  79, ...,  46,  48,  38],\n",
      "        [ 76,  78,  83, ...,  42,  40,  33],\n",
      "        [ 77,  76,  80, ...,  42,  42, 151],\n",
      "        ...,\n",
      "        [ 98,  96, 106, ..., 109, 104, 105],\n",
      "        [ 78,  76,  85, ..., 110,  67,  84],\n",
      "        [ 37,  85,  92, ..., 109, 111,  93]], dtype=uint8)\n",
      " array([0., 0., 0., 0., 0., 1., 0.])]\n"
     ]
    },
    {
     "name": "stderr",
     "output_type": "stream",
     "text": [
      "\n"
     ]
    }
   ],
   "source": [
    "\n",
    "REBUILD_DATA = True # set to true to one once, then back to false unless you want to change something in your training data.\n",
    "\n",
    "class Dice():\n",
    "    IMG_SIZE = 50\n",
    "    TRAINING_DIR = \"finalRealTrain\"\n",
    "    SAMPLES_NUM = 100\n",
    "\n",
    "    training_data = []\n",
    "\n",
    "    counter = [0 for i in range(7)]\n",
    "    \n",
    "\n",
    "    def make_training_data(self):\n",
    "        for f in tqdm(os.listdir(self.TRAINING_DIR)):\n",
    "            if \"jpg\" in f:\n",
    "#                 print(f)\n",
    "                path = os.path.join(self.TRAINING_DIR, f)\n",
    "                img = cv2.imread(path, cv2.IMREAD_GRAYSCALE)\n",
    "                img = cv2.resize(img, (self.IMG_SIZE, self.IMG_SIZE))\n",
    "                try:\n",
    "                    c = int(f[-5]) - 1\n",
    "                except Exception as e:\n",
    "                    c = int(f[-13]) - 1\n",
    "                if self.counter[c] < self.SAMPLES_NUM:\n",
    "                    ans = np.eye(7)[c]\n",
    "                    self.training_data.append([np.array(img), ans])\n",
    "                    self.counter[c] += 1\n",
    "\n",
    "\n",
    "        np.random.shuffle(self.training_data)\n",
    "        np.save(\"training_data.npy\", self.training_data)\n",
    "        for ind, value in enumerate(self.counter):\n",
    "            print(ind, value)\n",
    "\n",
    "\n",
    "if REBUILD_DATA:\n",
    "    dice = Dice()\n",
    "    dice.make_training_data()\n",
    "\n",
    "\n",
    "training_data = np.load(\"training_data.npy\", allow_pickle=True)\n",
    "print(len(training_data))\n",
    "print(training_data[0])"
   ]
  },
  {
   "cell_type": "code",
   "execution_count": 59,
   "id": "1972acdd",
   "metadata": {},
   "outputs": [],
   "source": [
    "import torch\n",
    "import torch.nn as nn\n",
    "import torch.nn.functional as F"
   ]
  },
  {
   "cell_type": "code",
   "execution_count": 93,
   "id": "87090cb2",
   "metadata": {},
   "outputs": [
    {
     "data": {
      "text/plain": [
       "Net(\n",
       "  (conv1): Conv2d(1, 64, kernel_size=(5, 5), stride=(1, 1))\n",
       "  (conv2): Conv2d(64, 128, kernel_size=(5, 5), stride=(1, 1))\n",
       "  (conv3): Conv2d(128, 256, kernel_size=(5, 5), stride=(1, 1))\n",
       "  (fc1): Linear(in_features=1024, out_features=512, bias=True)\n",
       "  (fc2): Linear(in_features=512, out_features=7, bias=True)\n",
       ")"
      ]
     },
     "execution_count": 93,
     "metadata": {},
     "output_type": "execute_result"
    }
   ],
   "source": [
    "import torch\n",
    "import torch.nn as nn\n",
    "import torch.nn.functional as F\n",
    "\n",
    "\n",
    "class Net(nn.Module):\n",
    "    def __init__(self):\n",
    "        super().__init__() # just run the init of parent class (nn.Module)\n",
    "        self.conv1 = nn.Conv2d(1, 64, 5) # input is 1 image, 32 output channels, 5x5 kernel / window\n",
    "        self.conv2 = nn.Conv2d(64, 128, 5) # input is 32, bc the first layer output 32. Then we say the output will be 64 channels, 5x5 kernel / window\n",
    "        self.conv3 = nn.Conv2d(128, 256, 5)\n",
    "\n",
    "        x = torch.randn(50,50).view(-1,1,50,50)\n",
    "        self._to_linear = None\n",
    "        self.convs(x)\n",
    "\n",
    "        self.fc1 = nn.Linear(self._to_linear, 512) #flattening.\n",
    "        self.fc2 = nn.Linear(512, 7) # 512 in, 6 out bc we're doing 6 classes (dice)\n",
    "\n",
    "    def convs(self, x):\n",
    "        # max pooling over 2x2\n",
    "        x = F.max_pool2d(F.relu(self.conv1(x)), (2, 2))\n",
    "        x = F.max_pool2d(F.relu(self.conv2(x)), (2, 2))\n",
    "        x = F.max_pool2d(F.relu(self.conv3(x)), (2, 2))\n",
    "\n",
    "        if self._to_linear is None:\n",
    "            self._to_linear = x[0].shape[0]*x[0].shape[1]*x[0].shape[2]\n",
    "        return x\n",
    "    \n",
    "    def forward(self, x):\n",
    "        x = self.convs(x)\n",
    "        x = x.view(-1, self._to_linear)  # .view is reshape ... this flattens X before \n",
    "        x = F.relu(self.fc1(x))\n",
    "        x = self.fc2(x) # bc this is our output layer. No activation here.\n",
    "        return F.softmax(x, dim=1)\n",
    "\n",
    "\n",
    "net = Net()\n",
    "net"
   ]
  },
  {
   "cell_type": "code",
   "execution_count": 73,
   "id": "6042d491",
   "metadata": {},
   "outputs": [],
   "source": []
  },
  {
   "cell_type": "code",
   "execution_count": 62,
   "id": "3d64d40c",
   "metadata": {},
   "outputs": [
    {
     "data": {
      "text/plain": [
       "array([[[ 76,  84,  85, ..., 204, 201, 200],\n",
       "        [ 77,  73,  85, ..., 190,  77, 141],\n",
       "        [ 77,  77,  75, ..., 191,  96,  84],\n",
       "        ...,\n",
       "        [ 95,  80,  37, ..., 103, 110,  47],\n",
       "        [ 74, 102,  94, ..., 114,  77,  46],\n",
       "        [ 31,  97,  96, ..., 110, 107,  43]]], dtype=uint8)"
      ]
     },
     "execution_count": 62,
     "metadata": {},
     "output_type": "execute_result"
    }
   ],
   "source": [
    "training_data[0][0].reshape(-1, 50, 50)"
   ]
  },
  {
   "cell_type": "code",
   "execution_count": 109,
   "id": "808051f3",
   "metadata": {},
   "outputs": [
    {
     "data": {
      "text/plain": [
       "624"
      ]
     },
     "execution_count": 109,
     "metadata": {},
     "output_type": "execute_result"
    }
   ],
   "source": [
    "X = torch.Tensor([i[0] for i in training_data]).view(-1, 1, 50, 50)\n",
    "X = X/255.0\n",
    "y = torch.Tensor([i[1] for i in training_data])\n",
    "len(X)"
   ]
  },
  {
   "cell_type": "code",
   "execution_count": 110,
   "id": "ec0fea4f",
   "metadata": {},
   "outputs": [
    {
     "name": "stdout",
     "output_type": "stream",
     "text": [
      "31\n"
     ]
    }
   ],
   "source": [
    "VAL_PCT = 0.05  # lets reserve 10% of our data for validation\n",
    "val_size = int(len(X)*VAL_PCT)\n",
    "print(val_size)"
   ]
  },
  {
   "cell_type": "code",
   "execution_count": 111,
   "id": "f2b9fcf1",
   "metadata": {},
   "outputs": [],
   "source": [
    "train_X = X[:-val_size]\n",
    "train_y = y[:-val_size]\n",
    "\n",
    "test_X = X[-val_size:]\n",
    "test_y = y[-val_size:]"
   ]
  },
  {
   "cell_type": "code",
   "execution_count": 112,
   "id": "da3cbaf9",
   "metadata": {},
   "outputs": [],
   "source": [
    "import torch.optim as optim\n",
    "\n",
    "optimizer = optim.Adam(net.parameters(), lr=1e-3)\n",
    "loss_function = nn.MSELoss()"
   ]
  },
  {
   "cell_type": "code",
   "execution_count": 114,
   "id": "216bd18d",
   "metadata": {},
   "outputs": [
    {
     "name": "stdout",
     "output_type": "stream",
     "text": [
      "Epoch: 0. Loss: 7.073007145663723e-05\n",
      "Epoch: 1. Loss: 1.7597703845240176e-05\n",
      "Epoch: 2. Loss: 8.430925663560629e-05\n",
      "Epoch: 3. Loss: 4.340196028351784e-05\n",
      "Epoch: 4. Loss: 5.544480882235803e-05\n",
      "Epoch: 5. Loss: 0.0007748758071102202\n",
      "Epoch: 6. Loss: 0.0004633853386621922\n",
      "Epoch: 7. Loss: 7.452373392879963e-05\n",
      "Epoch: 8. Loss: 3.267923602834344e-05\n",
      "Epoch: 9. Loss: 4.803792035090737e-05\n",
      "Epoch: 10. Loss: 0.0014456268399953842\n",
      "Epoch: 11. Loss: 1.612061714695301e-05\n",
      "Epoch: 12. Loss: 0.0016440736362710595\n",
      "Epoch: 13. Loss: 2.4960949303931557e-05\n",
      "Epoch: 14. Loss: 6.13028823863715e-05\n",
      "Epoch: 15. Loss: 0.00021851889323443174\n",
      "Epoch: 16. Loss: 1.3020036931266077e-05\n",
      "Epoch: 17. Loss: 3.432903758948669e-05\n",
      "Epoch: 18. Loss: 1.2182420505268965e-05\n",
      "Epoch: 19. Loss: 7.14188990968978e-06\n",
      "Epoch: 20. Loss: 4.064337190357037e-06\n",
      "Epoch: 21. Loss: 1.4278665730671491e-05\n",
      "Epoch: 22. Loss: 9.338663221569732e-05\n",
      "Epoch: 23. Loss: 0.0001127320429077372\n",
      "Epoch: 24. Loss: 5.548338594962843e-05\n",
      "Epoch: 25. Loss: 6.081264473323245e-06\n",
      "Epoch: 26. Loss: 3.826815009233542e-05\n",
      "Epoch: 27. Loss: 1.127606174122775e-05\n",
      "Epoch: 28. Loss: 3.856103649013676e-05\n",
      "Epoch: 29. Loss: 2.255803337902762e-05\n",
      "Epoch: 30. Loss: 0.00012479494034778327\n",
      "Epoch: 31. Loss: 0.000719048548489809\n",
      "Epoch: 32. Loss: 0.0001364960626233369\n",
      "Epoch: 33. Loss: 1.8190228729508817e-05\n",
      "Epoch: 34. Loss: 8.967745816335082e-05\n",
      "Epoch: 35. Loss: 0.0001274730748264119\n",
      "Epoch: 36. Loss: 1.6369584045605734e-05\n",
      "Epoch: 37. Loss: 5.119425622979179e-06\n",
      "Epoch: 38. Loss: 8.066662849159911e-05\n",
      "Epoch: 39. Loss: 5.423550828709267e-05\n",
      "Epoch: 40. Loss: 3.167292015859857e-05\n",
      "Epoch: 41. Loss: 3.9932201616466045e-05\n",
      "Epoch: 42. Loss: 9.127270459430292e-05\n",
      "Epoch: 43. Loss: 4.584368798532523e-05\n",
      "Epoch: 44. Loss: 3.174456423948868e-06\n",
      "Epoch: 45. Loss: 5.140714347362518e-05\n",
      "Epoch: 46. Loss: 0.0001526796113466844\n",
      "Epoch: 47. Loss: 7.730605284450576e-05\n",
      "Epoch: 48. Loss: 0.00013290464994497597\n",
      "Epoch: 49. Loss: 7.08062862031511e-06\n",
      "Epoch: 50. Loss: 1.159545445261756e-05\n",
      "Epoch: 51. Loss: 5.382886229199357e-06\n",
      "Epoch: 52. Loss: 0.003300080308690667\n",
      "Epoch: 53. Loss: 5.869633241673e-06\n",
      "Epoch: 54. Loss: 9.999153917306103e-06\n",
      "Epoch: 55. Loss: 1.70697985595325e-05\n",
      "Epoch: 56. Loss: 1.3698238035431132e-05\n",
      "Epoch: 57. Loss: 1.5535755665041506e-05\n",
      "Epoch: 58. Loss: 6.677376859443029e-06\n",
      "Epoch: 59. Loss: 1.1480845387268346e-05\n",
      "Epoch: 60. Loss: 5.906426849833224e-06\n",
      "Epoch: 61. Loss: 5.272249381960137e-06\n",
      "Epoch: 62. Loss: 1.2785615581378806e-05\n",
      "Epoch: 63. Loss: 3.1730403406982077e-06\n",
      "Epoch: 64. Loss: 8.043360139708966e-06\n",
      "Epoch: 65. Loss: 8.912954399420414e-06\n",
      "Epoch: 66. Loss: 5.414408860815456e-06\n",
      "Epoch: 67. Loss: 6.769788342353422e-06\n",
      "Epoch: 68. Loss: 5.383419193094596e-06\n",
      "Epoch: 69. Loss: 4.133441689191386e-05\n",
      "Epoch: 70. Loss: 3.195859244442545e-05\n",
      "Epoch: 71. Loss: 2.1206338715273887e-05\n",
      "Epoch: 72. Loss: 2.493773899914231e-05\n",
      "Epoch: 73. Loss: 5.010691165807657e-05\n",
      "Epoch: 74. Loss: 1.3144851436663885e-05\n",
      "Epoch: 75. Loss: 3.4587617392389802e-06\n",
      "Epoch: 76. Loss: 1.1768554941227194e-05\n",
      "Epoch: 77. Loss: 4.803519459528616e-06\n",
      "Epoch: 78. Loss: 1.54973804455949e-05\n",
      "Epoch: 79. Loss: 2.238212437077891e-05\n",
      "Epoch: 80. Loss: 7.971325430844445e-06\n",
      "Epoch: 81. Loss: 1.4404072317120153e-05\n",
      "Epoch: 82. Loss: 1.0450537047290709e-05\n",
      "Epoch: 83. Loss: 8.576448635722045e-06\n",
      "Epoch: 84. Loss: 1.1404948054405395e-05\n",
      "Epoch: 85. Loss: 7.889673725003377e-06\n",
      "Epoch: 86. Loss: 1.4860653209325392e-05\n",
      "Epoch: 87. Loss: 8.541210991097614e-05\n",
      "Epoch: 88. Loss: 0.0004016357706859708\n",
      "Epoch: 89. Loss: 7.32892076484859e-05\n",
      "Epoch: 90. Loss: 0.0008076048106886446\n",
      "Epoch: 91. Loss: 0.00022205201094038785\n",
      "Epoch: 92. Loss: 8.299260116473306e-06\n",
      "Epoch: 93. Loss: 0.00012302568939048797\n",
      "Epoch: 94. Loss: 0.003566593397408724\n",
      "Epoch: 95. Loss: 0.002481848932802677\n",
      "Epoch: 96. Loss: 3.7819820136064664e-05\n",
      "Epoch: 97. Loss: 0.011995541863143444\n",
      "Epoch: 98. Loss: 0.0003973736020270735\n",
      "Epoch: 99. Loss: 0.0005526995519176126\n"
     ]
    },
    {
     "name": "stderr",
     "output_type": "stream",
     "text": [
      "100%|██████████| 31/31 [00:00<00:00, 548.69it/s]"
     ]
    },
    {
     "name": "stdout",
     "output_type": "stream",
     "text": [
      "Accuracy:  0.968\n"
     ]
    },
    {
     "name": "stderr",
     "output_type": "stream",
     "text": [
      "\n"
     ]
    }
   ],
   "source": [
    "BATCH_SIZE = 30\n",
    "# EPOCHS = int(1e6)\n",
    "EPOCHS = 100\n",
    "\n",
    "for epoch in range(EPOCHS):\n",
    "    for i in range(0, len(train_X), BATCH_SIZE): # from 0, to the len of x, stepping BATCH_SIZE at a time. [:50] ..for now just to dev\n",
    "        #print(f\"{i}:{i+BATCH_SIZE}\")\n",
    "        batch_X = train_X[i:i+BATCH_SIZE].view(-1, 1, 50, 50)\n",
    "        batch_y = train_y[i:i+BATCH_SIZE]\n",
    "#         print(batch_X[0])\n",
    "#         break\n",
    "        net.zero_grad()\n",
    "\n",
    "        outputs = net(batch_X)\n",
    "        loss = loss_function(outputs, batch_y)\n",
    "        loss.backward()\n",
    "        optimizer.step()    # Does the update\n",
    "\n",
    "    print(f\"Epoch: {epoch}. Loss: {loss}\")\n",
    "    \n",
    "    \n",
    "correct = 0\n",
    "\n",
    "total = 0\n",
    "with torch.no_grad():\n",
    "    for i in tqdm(range(len(test_X))):\n",
    "        real_class = torch.argmax(test_y[i])\n",
    "        net_out = net(test_X[i].view(-1, 1, 50, 50))[0]  # returns a list, \n",
    "        predicted_class = torch.argmax(net_out)\n",
    "\n",
    "        if predicted_class == real_class:\n",
    "            correct += 1\n",
    "        total += 1\n",
    "print(\"Accuracy: \", round(correct/total, 3))\n"
   ]
  },
  {
   "cell_type": "code",
   "execution_count": 115,
   "id": "9c3d44b0",
   "metadata": {},
   "outputs": [
    {
     "name": "stderr",
     "output_type": "stream",
     "text": [
      "100%|██████████| 31/31 [00:00<00:00, 415.46it/s]"
     ]
    },
    {
     "name": "stdout",
     "output_type": "stream",
     "text": [
      "[6, 6, 4, 5, 5, 5, 0]\n",
      "Accuracy:  0.968\n"
     ]
    },
    {
     "name": "stderr",
     "output_type": "stream",
     "text": [
      "\n"
     ]
    }
   ],
   "source": [
    "correct = 0\n",
    "total = 0\n",
    "counter = [0 for i in range(7)]\n",
    "with torch.no_grad():\n",
    "    for i in tqdm(range(len(test_X))):\n",
    "        real_class = torch.argmax(test_y[i])\n",
    "        net_out = net(test_X[i].view(-1, 1, 50, 50))[0]  # returns a list, \n",
    "        predicted_class = torch.argmax(net_out)\n",
    "        counter[predicted_class] += 1\n",
    "\n",
    "        if predicted_class == real_class:\n",
    "            correct += 1\n",
    "        total += 1\n",
    "print(counter)\n",
    "print(\"Accuracy: \", round(correct/total, 3))"
   ]
  },
  {
   "cell_type": "code",
   "execution_count": 103,
   "id": "abe28208",
   "metadata": {},
   "outputs": [],
   "source": [
    "torch.save(net, \"finalNet.pt\")"
   ]
  },
  {
   "cell_type": "code",
   "execution_count": null,
   "id": "c6b3f452",
   "metadata": {},
   "outputs": [],
   "source": []
  }
 ],
 "metadata": {
  "kernelspec": {
   "display_name": "Python 3 (ipykernel)",
   "language": "python",
   "name": "python3"
  },
  "language_info": {
   "codemirror_mode": {
    "name": "ipython",
    "version": 3
   },
   "file_extension": ".py",
   "mimetype": "text/x-python",
   "name": "python",
   "nbconvert_exporter": "python",
   "pygments_lexer": "ipython3",
   "version": "3.9.7"
  }
 },
 "nbformat": 4,
 "nbformat_minor": 5
}
