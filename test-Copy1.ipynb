{
 "cells": [
  {
   "cell_type": "code",
   "execution_count": 1,
   "id": "10a39737",
   "metadata": {},
   "outputs": [],
   "source": [
    "import os\n",
    "import cv2\n",
    "import numpy as np\n",
    "import torch\n",
    "from tqdm import tqdm"
   ]
  },
  {
   "cell_type": "code",
   "execution_count": 4,
   "id": "55ca9cfd",
   "metadata": {},
   "outputs": [
    {
     "name": "stderr",
     "output_type": "stream",
     "text": [
      "100%|██████████| 243/243 [00:00<00:00, 344.71it/s]\n"
     ]
    },
    {
     "name": "stdout",
     "output_type": "stream",
     "text": [
      "0 43\n",
      "1 34\n",
      "2 45\n",
      "3 37\n",
      "4 43\n",
      "5 41\n",
      "243\n",
      "[array([[ 69,  73,  73, ..., 162, 155, 152],\n",
      "        [ 67,  70,  73, ..., 158, 154, 151],\n",
      "        [ 78,  68,  70, ...,  75, 151, 148],\n",
      "        ...,\n",
      "        [ 80,  77,  77, ..., 101,  99, 100],\n",
      "        [ 74,  79,  76, ...,  99, 103, 105],\n",
      "        [ 67, 131,  76, ..., 100, 102, 106]], dtype=uint8)\n",
      " array([0., 0., 0., 0., 1., 0.])]\n"
     ]
    }
   ],
   "source": [
    "\n",
    "REBUILD_DATA = False # set to true to one once, then back to false unless you want to change something in your training data.\n",
    "\n",
    "class Dice():\n",
    "    IMG_SIZE = 50\n",
    "    TRAINING_DIR = \"realTrain\"\n",
    "    SAMPLES_NUM = 100  # set so that there is an equal amount of every class\n",
    "\n",
    "    training_data = []\n",
    "\n",
    "    counter = [0 for i in range(6)]\n",
    "    \n",
    "\n",
    "    def make_training_data(self):\n",
    "        for f in tqdm(os.listdir(self.TRAINING_DIR)):\n",
    "            if \"jpg\" in f:\n",
    "#                 print(f)\n",
    "                path = os.path.join(self.TRAINING_DIR, f)\n",
    "                img = cv2.imread(path, cv2.IMREAD_GRAYSCALE)\n",
    "                img = cv2.resize(img, (self.IMG_SIZE, self.IMG_SIZE))\n",
    "                cv2.imwrite(os.path.join(\"scaled\", f), img)\n",
    "                c = int(f[len(f) - 5]) - 1\n",
    "                if self.counter[c] < self.SAMPLES_NUM:\n",
    "                    ans = np.eye(6)[c]\n",
    "                    self.training_data.append([np.array(img), ans])\n",
    "                    self.counter[c] += 1\n",
    "\n",
    "\n",
    "        np.random.shuffle(self.training_data)\n",
    "        np.save(\"training_data.npy\", self.training_data)\n",
    "        for ind, value in enumerate(self.counter):\n",
    "            print(ind, value)\n",
    "\n",
    "\n",
    "if REBUILD_DATA:\n",
    "    dice = Dice()\n",
    "    dice.make_training_data()\n",
    "\n",
    "\n",
    "training_data = np.load(\"training_data.npy\", allow_pickle=True)\n",
    "print(len(training_data))\n",
    "print(training_data[0])"
   ]
  },
  {
   "cell_type": "code",
   "execution_count": 2,
   "id": "c2a748fc",
   "metadata": {},
   "outputs": [
    {
     "data": {
      "text/plain": [
       "Net(\n",
       "  (conv1): Conv2d(1, 64, kernel_size=(5, 5), stride=(1, 1))\n",
       "  (conv2): Conv2d(64, 128, kernel_size=(5, 5), stride=(1, 1))\n",
       "  (conv3): Conv2d(128, 256, kernel_size=(5, 5), stride=(1, 1))\n",
       "  (fc1): Linear(in_features=1024, out_features=512, bias=True)\n",
       "  (fc2): Linear(in_features=512, out_features=7, bias=True)\n",
       ")"
      ]
     },
     "execution_count": 2,
     "metadata": {},
     "output_type": "execute_result"
    }
   ],
   "source": [
    "import torch\n",
    "import torch.nn as nn\n",
    "import torch.nn.functional as F\n",
    "\n",
    "\n",
    "class Net(nn.Module):\n",
    "    def __init__(self):\n",
    "        super().__init__() # just run the init of parent class (nn.Module)\n",
    "        self.conv1 = nn.Conv2d(1, 64, 5) # input is 1 image, 32 output channels, 5x5 kernel / window\n",
    "        self.conv2 = nn.Conv2d(64, 128, 5) # input is 32, bc the first layer output 32. Then we say the output will be 64 channels, 5x5 kernel / window\n",
    "        self.conv3 = nn.Conv2d(128, 256, 5)\n",
    "\n",
    "        x = torch.randn(50,50).view(-1,1,50,50)\n",
    "        self._to_linear = None\n",
    "        self.convs(x)\n",
    "\n",
    "        self.fc1 = nn.Linear(self._to_linear, 512) #flattening.\n",
    "        self.fc2 = nn.Linear(512, 6) # 512 in, 6 out bc we're doing 6 classes (dice)\n",
    "\n",
    "    def convs(self, x):\n",
    "        # max pooling over 2x2\n",
    "        x = F.max_pool2d(F.relu(self.conv1(x)), (2, 2))\n",
    "        x = F.max_pool2d(F.relu(self.conv2(x)), (2, 2))\n",
    "        x = F.max_pool2d(F.relu(self.conv3(x)), (2, 2))\n",
    "\n",
    "        if self._to_linear is None:\n",
    "            self._to_linear = x[0].shape[0]*x[0].shape[1]*x[0].shape[2]\n",
    "        return x\n",
    "    \n",
    "    def forward(self, x):\n",
    "        x = self.convs(x)\n",
    "        x = x.view(-1, self._to_linear)  # .view is reshape ... this flattens X before \n",
    "        x = F.relu(self.fc1(x))\n",
    "        x = self.fc2(x) # bc this is our output layer. No activation here.\n",
    "        return F.softmax(x, dim=1)\n",
    "\n",
    "\n",
    "net = torch.load(\"finalNet.pt\")\n",
    "net"
   ]
  },
  {
   "cell_type": "code",
   "execution_count": 4,
   "id": "8716aea3",
   "metadata": {},
   "outputs": [
    {
     "name": "stdout",
     "output_type": "stream",
     "text": [
      "166\n"
     ]
    },
    {
     "name": "stderr",
     "output_type": "stream",
     "text": [
      "/tmp/ipykernel_12698/607857972.py:1: UserWarning: Creating a tensor from a list of numpy.ndarrays is extremely slow. Please consider converting the list to a single numpy.ndarray with numpy.array() before converting to a tensor. (Triggered internally at  /opt/conda/conda-bld/pytorch_1640811723911/work/torch/csrc/utils/tensor_new.cpp:201.)\n",
      "  X = torch.Tensor([i[0] for i in training_data]).view(-1, 1, 50,50)\n"
     ]
    }
   ],
   "source": [
    "X = torch.Tensor([i[0] for i in training_data]).view(-1, 1, 50,50)\n",
    "X = X/255.0\n",
    "y = torch.Tensor([i[1] for i in training_data])\n",
    "VAL_PCT = 0.1  # lets reserve 10% of our data for validation\n",
    "val_size = int(len(X)*VAL_PCT)\n",
    "print(val_size)\n",
    "train_X = X[:-val_size]\n",
    "train_y = y[:-val_size]\n",
    "\n",
    "test_X = X[-val_size:]\n",
    "test_y = y[-val_size:]"
   ]
  },
  {
   "cell_type": "code",
   "execution_count": 5,
   "id": "2ea243b9",
   "metadata": {},
   "outputs": [
    {
     "name": "stderr",
     "output_type": "stream",
     "text": [
      "100%|██████████| 166/166 [00:00<00:00, 456.05it/s]"
     ]
    },
    {
     "name": "stdout",
     "output_type": "stream",
     "text": [
      "Accuracy:  0.789\n"
     ]
    },
    {
     "name": "stderr",
     "output_type": "stream",
     "text": [
      "\n"
     ]
    }
   ],
   "source": [
    "correct = 0\n",
    "total = 0\n",
    "with torch.no_grad():\n",
    "    for i in tqdm(range(len(test_X))):\n",
    "        real_class = torch.argmax(test_y[i])\n",
    "        net_out = net(test_X[i].view(-1, 1, 50, 50))[0]  # returns a list, \n",
    "        predicted_class = torch.argmax(net_out)\n",
    "\n",
    "        if predicted_class == real_class:\n",
    "            correct += 1\n",
    "        total += 1\n",
    "print(\"Accuracy: \", round(correct/total, 3))"
   ]
  },
  {
   "cell_type": "code",
   "execution_count": 6,
   "id": "2c3a83b9",
   "metadata": {},
   "outputs": [],
   "source": [
    "img = cv2.imread(\"realTest.jpg\", cv2.IMREAD_GRAYSCALE)\n",
    "height, width = img.shape\n",
    "img = img[height // 2 - 100:height // 2 + 100, width // 2 - 100:width // 2 + 100]\n",
    "img = np.array(cv2.resize(img, (50, 50)))"
   ]
  },
  {
   "cell_type": "code",
   "execution_count": 3,
   "id": "22069e21",
   "metadata": {},
   "outputs": [
    {
     "name": "stderr",
     "output_type": "stream",
     "text": [
      " 45%|████▌     | 249/548 [00:23<00:25, 11.89it/s]"
     ]
    },
    {
     "name": "stdout",
     "output_type": "stream",
     "text": [
      "OpenCV(4.5.5) /io/opencv/modules/imgproc/src/resize.cpp:4052: error: (-215:Assertion failed) !ssize.empty() in function 'resize'\n",
      " "
     ]
    },
    {
     "name": "stderr",
     "output_type": "stream",
     "text": [
      " 89%|████████▉ | 488/548 [00:46<00:05, 11.92it/s]"
     ]
    },
    {
     "name": "stdout",
     "output_type": "stream",
     "text": [
      "OpenCV(4.5.5) /io/opencv/modules/imgproc/src/resize.cpp:4052: error: (-215:Assertion failed) !ssize.empty() in function 'resize'\n",
      " "
     ]
    },
    {
     "name": "stderr",
     "output_type": "stream",
     "text": [
      "100%|██████████| 548/548 [00:52<00:00, 10.49it/s]\n"
     ]
    }
   ],
   "source": [
    "IMG_DIR = \"realTest\"\n",
    "IMG_SIZE = 50\n",
    "\n",
    "counter = [0 for i in range(7)]\n",
    "for f in tqdm(os.listdir(IMG_DIR)):\n",
    "    path = os.path.join(IMG_DIR, f)\n",
    "    img = cv2.imread(path, cv2.IMREAD_GRAYSCALE)\n",
    "    try:\n",
    "        img = cv2.resize(img, (IMG_SIZE, IMG_SIZE))\n",
    "#         cv2.imwrite(os.path.join(\"realScaled\", f), img)\n",
    "        res = net(torch.from_numpy(img).view(-1,1,50,50) / 255.0)\n",
    "        counter[torch.argmax(res).item()] += 1\n",
    "    except Exception as e:\n",
    "        print(e, end=' ')\n",
    "#     print(f)\n",
    "#     print(res)\n",
    "#     print(\"\\n\")"
   ]
  },
  {
   "cell_type": "code",
   "execution_count": 4,
   "id": "f0365ddf",
   "metadata": {},
   "outputs": [],
   "source": [
    "import matplotlib.pyplot as plt\n",
    "import numpy as np\n",
    "\n",
    "counter.pop(-1)\n",
    "y = np.array(counter)"
   ]
  },
  {
   "cell_type": "code",
   "execution_count": 5,
   "id": "c0531c6e",
   "metadata": {},
   "outputs": [],
   "source": [
    "import pygal\n",
    "bar_chart = pygal.Bar(height=1500, width=1500)\n",
    "bar_chart.title = 'Dice rolls'\n",
    "bar_chart.x_labels = map(str, range(1, 7))\n",
    "bar_chart.add('Dice', y)\n",
    "bar_chart.render_to_png('dice_stats.png')\n",
    "\n",
    "# train_chart = pygal.Bar(height = 1500, width=1500)\n",
    "# train_chart.title = 'Dice rolls'\n",
    "# train_chart.x_labels = map(str, range(1, 7))\n",
    "# train_chart.add('Dice', counter2)\n",
    "# train_chart.render_to_png('train_chart.png')"
   ]
  },
  {
   "cell_type": "code",
   "execution_count": 19,
   "id": "63023bce",
   "metadata": {},
   "outputs": [
    {
     "data": {
      "text/plain": [
       "<matplotlib.image.AxesImage at 0x7f210b2ced00>"
      ]
     },
     "execution_count": 19,
     "metadata": {},
     "output_type": "execute_result"
    },
    {
     "data": {
      "image/png": "[encoded data removed]",
      "text/plain": [
       "<Figure size 432x288 with 1 Axes>"
      ]
     },
     "metadata": {
      "needs_background": "light"
     },
     "output_type": "display_data"
    }
   ],
   "source": [
    "img = cv2.imread('dice_stats.png')\n",
    "plt.imshow(img)"
   ]
  },
  {
   "cell_type": "code",
   "execution_count": 26,
   "id": "1ea4e612",
   "metadata": {},
   "outputs": [
    {
     "data": {
      "text/plain": [
       "[81, 56, 54, 68, 89, 57]"
      ]
     },
     "execution_count": 26,
     "metadata": {},
     "output_type": "execute_result"
    }
   ],
   "source": [
    "counter"
   ]
  },
  {
   "cell_type": "code",
   "execution_count": 9,
   "id": "6cb6463c",
   "metadata": {},
   "outputs": [],
   "source": [
    "s = sum(counter)"
   ]
  },
  {
   "cell_type": "code",
   "execution_count": 16,
   "id": "ce5657ed",
   "metadata": {},
   "outputs": [],
   "source": [
    "p1 = [s/6 for i in range(6)]"
   ]
  },
  {
   "cell_type": "code",
   "execution_count": 17,
   "id": "9651101c",
   "metadata": {},
   "outputs": [],
   "source": [
    "xsq = sum((((counter[i] - p1[i]) ** 2) / p1[i] for i in range(6)))"
   ]
  },
  {
   "cell_type": "code",
   "execution_count": 18,
   "id": "2f74f6c2",
   "metadata": {},
   "outputs": [
    {
     "data": {
      "text/plain": [
       "9.852713178294575"
      ]
     },
     "execution_count": 18,
     "metadata": {},
     "output_type": "execute_result"
    }
   ],
   "source": [
    "xsq"
   ]
  },
  {
   "cell_type": "code",
   "execution_count": null,
   "id": "0c7ebbff",
   "metadata": {},
   "outputs": [],
   "source": []
  }
 ],
 "metadata": {
  "kernelspec": {
   "display_name": "Python 3 (ipykernel)",
   "language": "python",
   "name": "python3"
  },
  "language_info": {
   "codemirror_mode": {
    "name": "ipython",
    "version": 3
   },
   "file_extension": ".py",
   "mimetype": "text/x-python",
   "name": "python",
   "nbconvert_exporter": "python",
   "pygments_lexer": "ipython3",
   "version": "3.9.7"
  }
 },
 "nbformat": 4,
 "nbformat_minor": 5
}
